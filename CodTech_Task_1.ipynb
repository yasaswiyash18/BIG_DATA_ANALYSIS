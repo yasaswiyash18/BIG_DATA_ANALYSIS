{
  "nbformat": 4,
  "nbformat_minor": 0,
  "metadata": {
    "colab": {
      "provenance": [],
      "include_colab_link": true
    },
    "kernelspec": {
      "name": "python3",
      "display_name": "Python 3"
    },
    "language_info": {
      "name": "python"
    }
  },
  "cells": [
    {
      "cell_type": "markdown",
      "metadata": {
        "id": "view-in-github",
        "colab_type": "text"
      },
      "source": [
        "<a href=\"https://colab.research.google.com/github/yasaswiyash18/BIG_DATA_ANALYSIS/blob/main/CodTech_Task_1.ipynb\" target=\"_parent\"><img src=\"https://colab.research.google.com/assets/colab-badge.svg\" alt=\"Open In Colab\"/></a>"
      ]
    },
    {
      "cell_type": "code",
      "execution_count": null,
      "metadata": {
        "id": "E03Fxsk7mT7_"
      },
      "outputs": [],
      "source": [
        "from pyspark.sql import SparkSession\n",
        "from pyspark.sql.functions import col, avg, count, desc, when\n",
        "import urllib.request\n",
        "import pandas as pd"
      ]
    },
    {
      "cell_type": "code",
      "source": [
        "# Initialize Spark session\n",
        "spark = SparkSession.builder \\\n",
        "    .appName(\"E-commerce Analysis\") \\\n",
        "    .config(\"spark.driver.memory\", \"4g\") \\\n",
        "    .getOrCreate()"
      ],
      "metadata": {
        "id": "8nT40-d3mhjR"
      },
      "execution_count": null,
      "outputs": []
    },
    {
      "cell_type": "code",
      "source": [
        "# Download and prepare dataset\n",
        "def get_ecommerce_data():\n",
        "    url = \"https://raw.githubusercontent.com/IBM/telco-customer-churn-on-icp4d/master/data/Telco-Customer-Churn.csv\"\n",
        "    urllib.request.urlretrieve(url, \"telco_data.csv\")\n",
        "\n",
        "    # Read CSV file using pandas first (for easier handling)\n",
        "    pdf = pd.read_csv(\"telco_data.csv\")\n",
        "\n",
        "    # Convert to Spark DataFrame\n",
        "    df = spark.createDataFrame(pdf)\n",
        "    return df"
      ],
      "metadata": {
        "id": "fiC_3GDLmixl"
      },
      "execution_count": null,
      "outputs": []
    },
    {
      "cell_type": "code",
      "source": [
        "def analyze_customer_data(df):\n",
        "    print(\"=== Telco Customer Analysis ===\")\n",
        "\n",
        "    # Clean monthly charges column\n",
        "    df = df.withColumn(\"MonthlyCharges\", col(\"MonthlyCharges\").cast(\"double\"))\n",
        "\n",
        "    # 1. Customer churn analysis\n",
        "    churn_analysis = df.groupBy(\"Churn\").agg(\n",
        "        count(\"*\").alias(\"customer_count\"),\n",
        "        avg(\"MonthlyCharges\").alias(\"avg_monthly_charges\")\n",
        "    )\n",
        "\n",
        "    # 2. Service adoption analysis\n",
        "    service_columns = [\"PhoneService\", \"InternetService\", \"OnlineSecurity\", \"OnlineBackup\"]\n",
        "    for service in service_columns:\n",
        "        print(f\"\\n{service} Distribution:\")\n",
        "        df.groupBy(service).count().orderBy(desc(\"count\")).show()\n",
        "\n",
        "    # 3. Contract type analysis\n",
        "    contract_analysis = df.groupBy(\"Contract\").agg(\n",
        "        count(\"*\").alias(\"customer_count\"),\n",
        "        avg(\"MonthlyCharges\").alias(\"avg_monthly_charges\")\n",
        "    )\n",
        "\n",
        "    # 4. Monthly charges analysis\n",
        "    df = df.withColumn(\"charges_category\",\n",
        "        when(col(\"MonthlyCharges\") < 35, \"Low\")\n",
        "        .when((col(\"MonthlyCharges\") >= 35) & (col(\"MonthlyCharges\") < 70), \"Medium\")\n",
        "        .when(col(\"MonthlyCharges\") >= 70, \"High\")\n",
        "    )\n",
        "\n",
        "    charges_distribution = df.groupBy(\"charges_category\").count()\n",
        "\n",
        "    return churn_analysis, contract_analysis, charges_distribution"
      ],
      "metadata": {
        "id": "rkT4ng5EmjSe"
      },
      "execution_count": null,
      "outputs": []
    },
    {
      "cell_type": "code",
      "source": [
        "def main():\n",
        "    # Get data\n",
        "    print(\"Downloading and preparing data...\")\n",
        "    df = get_ecommerce_data()\n",
        "\n",
        "    # Perform analysis\n",
        "    print(\"\\nPerforming analysis...\")\n",
        "    churn_stats, contract_stats, charges_dist = analyze_customer_data(df)\n",
        "\n",
        "    # Display results\n",
        "    print(\"\\nChurn Analysis:\")\n",
        "    churn_stats.show()\n",
        "\n",
        "    print(\"\\nContract Analysis:\")\n",
        "    contract_stats.show()\n",
        "\n",
        "    print(\"\\nCharges Distribution:\")\n",
        "    charges_dist.show()\n",
        "\n",
        "    # Stop Spark session\n",
        "    spark.stop()\n",
        "\n",
        "if __name__ == \"__main__\":\n",
        "    main()"
      ],
      "metadata": {
        "colab": {
          "base_uri": "https://localhost:8080/"
        },
        "id": "YLVd_bv1mjWE",
        "outputId": "a46c318a-6a4a-40fe-9692-e5241b049c59"
      },
      "execution_count": null,
      "outputs": [
        {
          "output_type": "stream",
          "name": "stdout",
          "text": [
            "Downloading and preparing data...\n",
            "\n",
            "Performing analysis...\n",
            "=== Telco Customer Analysis ===\n",
            "\n",
            "PhoneService Distribution:\n",
            "+------------+-----+\n",
            "|PhoneService|count|\n",
            "+------------+-----+\n",
            "|         Yes| 6361|\n",
            "|          No|  682|\n",
            "+------------+-----+\n",
            "\n",
            "\n",
            "InternetService Distribution:\n",
            "+---------------+-----+\n",
            "|InternetService|count|\n",
            "+---------------+-----+\n",
            "|    Fiber optic| 3096|\n",
            "|            DSL| 2421|\n",
            "|             No| 1526|\n",
            "+---------------+-----+\n",
            "\n",
            "\n",
            "OnlineSecurity Distribution:\n",
            "+-------------------+-----+\n",
            "|     OnlineSecurity|count|\n",
            "+-------------------+-----+\n",
            "|                 No| 3498|\n",
            "|                Yes| 2019|\n",
            "|No internet service| 1526|\n",
            "+-------------------+-----+\n",
            "\n",
            "\n",
            "OnlineBackup Distribution:\n",
            "+-------------------+-----+\n",
            "|       OnlineBackup|count|\n",
            "+-------------------+-----+\n",
            "|                 No| 3088|\n",
            "|                Yes| 2429|\n",
            "|No internet service| 1526|\n",
            "+-------------------+-----+\n",
            "\n",
            "\n",
            "Churn Analysis:\n",
            "+-----+--------------+-------------------+\n",
            "|Churn|customer_count|avg_monthly_charges|\n",
            "+-----+--------------+-------------------+\n",
            "|   No|          5174|  61.26512369540001|\n",
            "|  Yes|          1869|  74.44133226324232|\n",
            "+-----+--------------+-------------------+\n",
            "\n",
            "\n",
            "Contract Analysis:\n",
            "+--------------+--------------+-------------------+\n",
            "|      Contract|customer_count|avg_monthly_charges|\n",
            "+--------------+--------------+-------------------+\n",
            "|Month-to-month|          3875|  66.39849032258064|\n",
            "|      One year|          1473|  65.04860828241678|\n",
            "|      Two year|          1695| 60.770412979351036|\n",
            "+--------------+--------------+-------------------+\n",
            "\n",
            "\n",
            "Charges Distribution:\n",
            "+----------------+-----+\n",
            "|charges_category|count|\n",
            "+----------------+-----+\n",
            "|            High| 3591|\n",
            "|             Low| 1731|\n",
            "|          Medium| 1721|\n",
            "+----------------+-----+\n",
            "\n"
          ]
        }
      ]
    }
  ]
}